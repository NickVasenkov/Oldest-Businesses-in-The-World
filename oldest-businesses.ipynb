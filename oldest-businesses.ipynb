{
 "cells": [
  {
   "cell_type": "markdown",
   "id": "ede3d100",
   "metadata": {},
   "source": [
    "Exploring the oldest businesses in the world via Pandas\n",
    "\n",
    "Datasets are collected by BusinessFinancing.co.uk.\n",
    "\n"
   ]
  },
  {
   "cell_type": "markdown",
   "id": "22a30d1f",
   "metadata": {},
   "source": [
    "# Datasets\n",
    "<p>Our datasets, which are all located in the <code>datasets</code> directory, contain the following information: </p>\n",
    "<h3 id=\"businessesandnew_businesses\"><code>businesses</code> and <code>new_businesses</code></h3>\n",
    "<table>\n",
    "<thead>\n",
    "<tr>\n",
    "<th style=\"text-align:left;\">column</th>\n",
    "<th>type</th>\n",
    "<th>meaning</th>\n",
    "</tr>\n",
    "</thead>\n",
    "<tbody>\n",
    "<tr>\n",
    "<td style=\"text-align:left;\"><code>business</code></td>\n",
    "<td>varchar</td>\n",
    "<td>Name of the business.</td>\n",
    "</tr>\n",
    "<tr>\n",
    "<td style=\"text-align:left;\"><code>year_founded</code></td>\n",
    "<td>int</td>\n",
    "<td>Year the business was founded.</td>\n",
    "</tr>\n",
    "<tr>\n",
    "<td style=\"text-align:left;\"><code>category_code</code></td>\n",
    "<td>varchar</td>\n",
    "<td>Code for the category of the business.</td>\n",
    "</tr>\n",
    "<tr>\n",
    "<td style=\"text-align:left;\"><code>country_code</code></td>\n",
    "<td>char</td>\n",
    "<td>ISO 3166-1 3-letter country code.</td>\n",
    "</tr>\n",
    "</tbody>\n",
    "</table>\n",
    "\n",
    "<h3 id=\"countries\"><code>countries</code></h3>\n",
    "<table>\n",
    "<thead>\n",
    "<tr>\n",
    "<th style=\"text-align:left;\">column</th>\n",
    "<th>type</th>\n",
    "<th>meaning</th>\n",
    "</tr>\n",
    "</thead>\n",
    "<tbody>\n",
    "<tr>\n",
    "<td style=\"text-align:left;\"><code>country_code</code></td>\n",
    "<td>varchar</td>\n",
    "<td>ISO 3166-1 3-letter country code.</td>\n",
    "</tr>\n",
    "<tr>\n",
    "<td style=\"text-align:left;\"><code>country</code></td>\n",
    "<td>varchar</td>\n",
    "<td>Name of the country.</td>\n",
    "</tr>\n",
    "<tr>\n",
    "<td style=\"text-align:left;\"><code>continent</code></td>\n",
    "<td>varchar</td>\n",
    "<td>Name of the continent that the country exists in.</td>\n",
    "</tr>\n",
    "</tbody>\n",
    "</table>\n",
    "<h3 id=\"categories\"><code>categories</code></h3>\n",
    "<table>\n",
    "<thead>\n",
    "<tr>\n",
    "<th style=\"text-align:left;\">column</th>\n",
    "<th>type</th>\n",
    "<th>meaning</th>\n",
    "</tr>\n",
    "</thead>\n",
    "<tbody>\n",
    "<tr>\n",
    "<td style=\"text-align:left;\"><code>category_code</code></td>\n",
    "<td>varchar</td>\n",
    "<td>Code for the category of the business.</td>\n",
    "</tr>\n",
    "<tr>\n",
    "<td style=\"text-align:left;\"><code>category</code></td>\n",
    "<td>varchar</td>\n",
    "<td>Description of the business category.</td>\n",
    "</tr>\n",
    "</tbody>\n",
    "</table>"
   ]
  },
  {
   "cell_type": "markdown",
   "id": "0da19c04",
   "metadata": {},
   "source": [
    "# Top five of the oldest in the world"
   ]
  },
  {
   "cell_type": "code",
   "execution_count": 2,
   "id": "67f5d656",
   "metadata": {},
   "outputs": [
    {
     "data": {
      "text/html": [
       "<div>\n",
       "<style scoped>\n",
       "    .dataframe tbody tr th:only-of-type {\n",
       "        vertical-align: middle;\n",
       "    }\n",
       "\n",
       "    .dataframe tbody tr th {\n",
       "        vertical-align: top;\n",
       "    }\n",
       "\n",
       "    .dataframe thead th {\n",
       "        text-align: right;\n",
       "    }\n",
       "</style>\n",
       "<table border=\"1\" class=\"dataframe\">\n",
       "  <thead>\n",
       "    <tr style=\"text-align: right;\">\n",
       "      <th></th>\n",
       "      <th>business</th>\n",
       "      <th>year_founded</th>\n",
       "      <th>category_code</th>\n",
       "      <th>country_code</th>\n",
       "    </tr>\n",
       "  </thead>\n",
       "  <tbody>\n",
       "    <tr>\n",
       "      <th>64</th>\n",
       "      <td>Kongō Gumi</td>\n",
       "      <td>578</td>\n",
       "      <td>CAT6</td>\n",
       "      <td>JPN</td>\n",
       "    </tr>\n",
       "    <tr>\n",
       "      <th>94</th>\n",
       "      <td>St. Peter Stifts Kulinarium</td>\n",
       "      <td>803</td>\n",
       "      <td>CAT4</td>\n",
       "      <td>AUT</td>\n",
       "    </tr>\n",
       "    <tr>\n",
       "      <th>107</th>\n",
       "      <td>Staffelter Hof Winery</td>\n",
       "      <td>862</td>\n",
       "      <td>CAT9</td>\n",
       "      <td>DEU</td>\n",
       "    </tr>\n",
       "    <tr>\n",
       "      <th>106</th>\n",
       "      <td>Monnaie de Paris</td>\n",
       "      <td>864</td>\n",
       "      <td>CAT12</td>\n",
       "      <td>FRA</td>\n",
       "    </tr>\n",
       "    <tr>\n",
       "      <th>103</th>\n",
       "      <td>The Royal Mint</td>\n",
       "      <td>886</td>\n",
       "      <td>CAT12</td>\n",
       "      <td>GBR</td>\n",
       "    </tr>\n",
       "  </tbody>\n",
       "</table>\n",
       "</div>"
      ],
      "text/plain": [
       "                        business  year_founded category_code country_code\n",
       "64                    Kongō Gumi           578          CAT6          JPN\n",
       "94   St. Peter Stifts Kulinarium           803          CAT4          AUT\n",
       "107        Staffelter Hof Winery           862          CAT9          DEU\n",
       "106            Monnaie de Paris            864         CAT12          FRA\n",
       "103               The Royal Mint           886         CAT12          GBR"
      ]
     },
     "execution_count": 2,
     "metadata": {},
     "output_type": "execute_result"
    }
   ],
   "source": [
    "import pandas as pd\n",
    "\n",
    "businesses = pd.read_csv('datasets/businesses.csv')\n",
    "\n",
    "# Sort businesses from oldest businesses to youngest\n",
    "sorted_businesses = businesses.sort_values('year_founded')\n",
    "\n",
    "sorted_businesses.head()"
   ]
  },
  {
   "cell_type": "code",
   "execution_count": 4,
   "id": "185b3a1a",
   "metadata": {},
   "outputs": [
    {
     "data": {
      "text/html": [
       "<div>\n",
       "<style scoped>\n",
       "    .dataframe tbody tr th:only-of-type {\n",
       "        vertical-align: middle;\n",
       "    }\n",
       "\n",
       "    .dataframe tbody tr th {\n",
       "        vertical-align: top;\n",
       "    }\n",
       "\n",
       "    .dataframe thead th {\n",
       "        text-align: right;\n",
       "    }\n",
       "</style>\n",
       "<table border=\"1\" class=\"dataframe\">\n",
       "  <thead>\n",
       "    <tr style=\"text-align: right;\">\n",
       "      <th></th>\n",
       "      <th>business</th>\n",
       "      <th>year_founded</th>\n",
       "      <th>category_code</th>\n",
       "      <th>country_code</th>\n",
       "      <th>country</th>\n",
       "      <th>continent</th>\n",
       "    </tr>\n",
       "  </thead>\n",
       "  <tbody>\n",
       "    <tr>\n",
       "      <th>0</th>\n",
       "      <td>Kongō Gumi</td>\n",
       "      <td>578</td>\n",
       "      <td>CAT6</td>\n",
       "      <td>JPN</td>\n",
       "      <td>Japan</td>\n",
       "      <td>Asia</td>\n",
       "    </tr>\n",
       "    <tr>\n",
       "      <th>1</th>\n",
       "      <td>St. Peter Stifts Kulinarium</td>\n",
       "      <td>803</td>\n",
       "      <td>CAT4</td>\n",
       "      <td>AUT</td>\n",
       "      <td>Austria</td>\n",
       "      <td>Europe</td>\n",
       "    </tr>\n",
       "    <tr>\n",
       "      <th>2</th>\n",
       "      <td>Staffelter Hof Winery</td>\n",
       "      <td>862</td>\n",
       "      <td>CAT9</td>\n",
       "      <td>DEU</td>\n",
       "      <td>Germany</td>\n",
       "      <td>Europe</td>\n",
       "    </tr>\n",
       "    <tr>\n",
       "      <th>3</th>\n",
       "      <td>Monnaie de Paris</td>\n",
       "      <td>864</td>\n",
       "      <td>CAT12</td>\n",
       "      <td>FRA</td>\n",
       "      <td>France</td>\n",
       "      <td>Europe</td>\n",
       "    </tr>\n",
       "    <tr>\n",
       "      <th>4</th>\n",
       "      <td>The Royal Mint</td>\n",
       "      <td>886</td>\n",
       "      <td>CAT12</td>\n",
       "      <td>GBR</td>\n",
       "      <td>United Kingdom</td>\n",
       "      <td>Europe</td>\n",
       "    </tr>\n",
       "  </tbody>\n",
       "</table>\n",
       "</div>"
      ],
      "text/plain": [
       "                      business  year_founded category_code country_code  \\\n",
       "0                   Kongō Gumi           578          CAT6          JPN   \n",
       "1  St. Peter Stifts Kulinarium           803          CAT4          AUT   \n",
       "2        Staffelter Hof Winery           862          CAT9          DEU   \n",
       "3            Monnaie de Paris            864         CAT12          FRA   \n",
       "4               The Royal Mint           886         CAT12          GBR   \n",
       "\n",
       "          country continent  \n",
       "0           Japan      Asia  \n",
       "1         Austria    Europe  \n",
       "2         Germany    Europe  \n",
       "3          France    Europe  \n",
       "4  United Kingdom    Europe  "
      ]
     },
     "execution_count": 4,
     "metadata": {},
     "output_type": "execute_result"
    }
   ],
   "source": [
    "# Let's add country names and continents\n",
    "countries = pd.read_csv('datasets/countries.csv')\n",
    "businesses_countries = sorted_businesses.merge(countries, on='country_code')\n",
    "\n",
    "businesses_countries.head()"
   ]
  },
  {
   "cell_type": "markdown",
   "id": "5645a2e6",
   "metadata": {},
   "source": [
    "# Top five of the oldest in the North America"
   ]
  },
  {
   "cell_type": "code",
   "execution_count": 5,
   "id": "e006572d",
   "metadata": {},
   "outputs": [
    {
     "data": {
      "text/html": [
       "<div>\n",
       "<style scoped>\n",
       "    .dataframe tbody tr th:only-of-type {\n",
       "        vertical-align: middle;\n",
       "    }\n",
       "\n",
       "    .dataframe tbody tr th {\n",
       "        vertical-align: top;\n",
       "    }\n",
       "\n",
       "    .dataframe thead th {\n",
       "        text-align: right;\n",
       "    }\n",
       "</style>\n",
       "<table border=\"1\" class=\"dataframe\">\n",
       "  <thead>\n",
       "    <tr style=\"text-align: right;\">\n",
       "      <th></th>\n",
       "      <th>business</th>\n",
       "      <th>year_founded</th>\n",
       "      <th>category_code</th>\n",
       "      <th>country_code</th>\n",
       "      <th>country</th>\n",
       "      <th>continent</th>\n",
       "    </tr>\n",
       "  </thead>\n",
       "  <tbody>\n",
       "    <tr>\n",
       "      <th>22</th>\n",
       "      <td>La Casa de Moneda de México</td>\n",
       "      <td>1534</td>\n",
       "      <td>CAT12</td>\n",
       "      <td>MEX</td>\n",
       "      <td>Mexico</td>\n",
       "      <td>North America</td>\n",
       "    </tr>\n",
       "    <tr>\n",
       "      <th>28</th>\n",
       "      <td>Shirley Plantation</td>\n",
       "      <td>1638</td>\n",
       "      <td>CAT1</td>\n",
       "      <td>USA</td>\n",
       "      <td>United States</td>\n",
       "      <td>North America</td>\n",
       "    </tr>\n",
       "    <tr>\n",
       "      <th>33</th>\n",
       "      <td>Hudson's Bay Company</td>\n",
       "      <td>1670</td>\n",
       "      <td>CAT17</td>\n",
       "      <td>CAN</td>\n",
       "      <td>Canada</td>\n",
       "      <td>North America</td>\n",
       "    </tr>\n",
       "    <tr>\n",
       "      <th>35</th>\n",
       "      <td>Mount Gay Rum</td>\n",
       "      <td>1703</td>\n",
       "      <td>CAT9</td>\n",
       "      <td>BRB</td>\n",
       "      <td>Barbados</td>\n",
       "      <td>North America</td>\n",
       "    </tr>\n",
       "    <tr>\n",
       "      <th>40</th>\n",
       "      <td>Rose Hall</td>\n",
       "      <td>1770</td>\n",
       "      <td>CAT19</td>\n",
       "      <td>JAM</td>\n",
       "      <td>Jamaica</td>\n",
       "      <td>North America</td>\n",
       "    </tr>\n",
       "  </tbody>\n",
       "</table>\n",
       "</div>"
      ],
      "text/plain": [
       "                       business  year_founded category_code country_code  \\\n",
       "22  La Casa de Moneda de México          1534         CAT12          MEX   \n",
       "28           Shirley Plantation          1638          CAT1          USA   \n",
       "33         Hudson's Bay Company          1670         CAT17          CAN   \n",
       "35                Mount Gay Rum          1703          CAT9          BRB   \n",
       "40                    Rose Hall          1770         CAT19          JAM   \n",
       "\n",
       "          country      continent  \n",
       "22         Mexico  North America  \n",
       "28  United States  North America  \n",
       "33         Canada  North America  \n",
       "35       Barbados  North America  \n",
       "40        Jamaica  North America  "
      ]
     },
     "execution_count": 5,
     "metadata": {},
     "output_type": "execute_result"
    }
   ],
   "source": [
    "# Filter businesses_countries to include countries in North America only\n",
    "north_america = businesses_countries[businesses_countries['continent'] == 'North America']\n",
    "north_america.head()"
   ]
  },
  {
   "cell_type": "markdown",
   "id": "eeb9504d",
   "metadata": {},
   "source": [
    "# The oldest business on each continent"
   ]
  },
  {
   "cell_type": "code",
   "execution_count": 16,
   "id": "56fc6d7b",
   "metadata": {},
   "outputs": [
    {
     "data": {
      "text/html": [
       "<div>\n",
       "<style scoped>\n",
       "    .dataframe tbody tr th:only-of-type {\n",
       "        vertical-align: middle;\n",
       "    }\n",
       "\n",
       "    .dataframe tbody tr th {\n",
       "        vertical-align: top;\n",
       "    }\n",
       "\n",
       "    .dataframe thead th {\n",
       "        text-align: right;\n",
       "    }\n",
       "</style>\n",
       "<table border=\"1\" class=\"dataframe\">\n",
       "  <thead>\n",
       "    <tr style=\"text-align: right;\">\n",
       "      <th></th>\n",
       "      <th>continent</th>\n",
       "      <th>country</th>\n",
       "      <th>business</th>\n",
       "      <th>year_founded</th>\n",
       "    </tr>\n",
       "  </thead>\n",
       "  <tbody>\n",
       "    <tr>\n",
       "      <th>0</th>\n",
       "      <td>Africa</td>\n",
       "      <td>Mauritius</td>\n",
       "      <td>Mauritius Post</td>\n",
       "      <td>1772</td>\n",
       "    </tr>\n",
       "    <tr>\n",
       "      <th>1</th>\n",
       "      <td>Asia</td>\n",
       "      <td>Japan</td>\n",
       "      <td>Kongō Gumi</td>\n",
       "      <td>578</td>\n",
       "    </tr>\n",
       "    <tr>\n",
       "      <th>2</th>\n",
       "      <td>Europe</td>\n",
       "      <td>Austria</td>\n",
       "      <td>St. Peter Stifts Kulinarium</td>\n",
       "      <td>803</td>\n",
       "    </tr>\n",
       "    <tr>\n",
       "      <th>3</th>\n",
       "      <td>North America</td>\n",
       "      <td>Mexico</td>\n",
       "      <td>La Casa de Moneda de México</td>\n",
       "      <td>1534</td>\n",
       "    </tr>\n",
       "    <tr>\n",
       "      <th>4</th>\n",
       "      <td>Oceania</td>\n",
       "      <td>Australia</td>\n",
       "      <td>Australia Post</td>\n",
       "      <td>1809</td>\n",
       "    </tr>\n",
       "    <tr>\n",
       "      <th>5</th>\n",
       "      <td>South America</td>\n",
       "      <td>Peru</td>\n",
       "      <td>Casa Nacional de Moneda</td>\n",
       "      <td>1565</td>\n",
       "    </tr>\n",
       "  </tbody>\n",
       "</table>\n",
       "</div>"
      ],
      "text/plain": [
       "       continent    country                     business  year_founded\n",
       "0         Africa  Mauritius               Mauritius Post          1772\n",
       "1           Asia      Japan                   Kongō Gumi           578\n",
       "2         Europe    Austria  St. Peter Stifts Kulinarium           803\n",
       "3  North America     Mexico  La Casa de Moneda de México          1534\n",
       "4        Oceania  Australia               Australia Post          1809\n",
       "5  South America       Peru      Casa Nacional de Moneda          1565"
      ]
     },
     "execution_count": 16,
     "metadata": {},
     "output_type": "execute_result"
    }
   ],
   "source": [
    "# Find\n",
    "continent = businesses_countries.groupby('continent')[['year_founded']].agg(min)\n",
    "\n",
    "# Merge\n",
    "merged_continent = continent.merge(businesses_countries)\n",
    "\n",
    "# Remove technical columns\n",
    "subset_merged_continent = merged_continent[['continent', 'country', 'business', 'year_founded']]\n",
    "subset_merged_continent"
   ]
  },
  {
   "cell_type": "markdown",
   "id": "52b167af",
   "metadata": {},
   "source": [
    "# Exploring missing data\n",
    "\n",
    "The dataset \"businesses\" contain less countries, than the dataset \"countries\":"
   ]
  },
  {
   "cell_type": "code",
   "execution_count": 21,
   "id": "73dab10f",
   "metadata": {},
   "outputs": [
    {
     "data": {
      "text/plain": [
       "163"
      ]
     },
     "execution_count": 21,
     "metadata": {},
     "output_type": "execute_result"
    }
   ],
   "source": [
    "businesses['country_code'].nunique()"
   ]
  },
  {
   "cell_type": "code",
   "execution_count": 22,
   "id": "5d117906",
   "metadata": {},
   "outputs": [
    {
     "data": {
      "text/plain": [
       "195"
      ]
     },
     "execution_count": 22,
     "metadata": {},
     "output_type": "execute_result"
    }
   ],
   "source": [
    "countries['country_code'].nunique()"
   ]
  },
  {
   "cell_type": "markdown",
   "id": "498894f7",
   "metadata": {},
   "source": [
    "Let's find countries that are missing from businesses dataset:"
   ]
  },
  {
   "cell_type": "code",
   "execution_count": 23,
   "id": "cb531860",
   "metadata": {},
   "outputs": [
    {
     "data": {
      "text/plain": [
       "163                              Angola\n",
       "164                 Antigua and Barbuda\n",
       "165                             Bahamas\n",
       "166                  Dominican Republic\n",
       "167                             Ecuador\n",
       "168                                Fiji\n",
       "169     Micronesia, Federated States of\n",
       "170                               Ghana\n",
       "171                              Gambia\n",
       "172                             Grenada\n",
       "173           Iran, Islamic Republic of\n",
       "174                          Kyrgyzstan\n",
       "175                            Kiribati\n",
       "176               Saint Kitts and Nevis\n",
       "177                              Monaco\n",
       "178                Moldova, Republic of\n",
       "179                            Maldives\n",
       "180                    Marshall Islands\n",
       "181                               Nauru\n",
       "182                               Palau\n",
       "183                    Papua New Guinea\n",
       "184                            Paraguay\n",
       "185                 Palestine, State of\n",
       "186                     Solomon Islands\n",
       "187                            Suriname\n",
       "188                          Tajikistan\n",
       "189                        Turkmenistan\n",
       "190                         Timor-Leste\n",
       "191                               Tonga\n",
       "192                              Tuvalu\n",
       "193    Saint Vincent and the Grenadines\n",
       "194                               Samoa\n",
       "Name: country, dtype: object"
      ]
     },
     "execution_count": 23,
     "metadata": {},
     "output_type": "execute_result"
    }
   ],
   "source": [
    "# Outer merge\n",
    "all_countries = businesses.merge(countries, on='country_code', how='outer')\n",
    "\n",
    "# Filter to include only countries without oldest businesses\n",
    "missing_countries = all_countries[all_countries['business'].isnull()]\n",
    "\n",
    "# Display\n",
    "missing_countries_series = pd.Series(missing_countries['country'])\n",
    "missing_countries_series"
   ]
  },
  {
   "cell_type": "markdown",
   "id": "c69279be",
   "metadata": {},
   "source": [
    "# Adding missing data\n",
    "\n",
    "We have found info on a few of the countries with missing data, it is in \"new_businesses.csv\":"
   ]
  },
  {
   "cell_type": "code",
   "execution_count": 27,
   "id": "5a5b2738",
   "metadata": {},
   "outputs": [
    {
     "data": {
      "text/html": [
       "<div>\n",
       "<style scoped>\n",
       "    .dataframe tbody tr th:only-of-type {\n",
       "        vertical-align: middle;\n",
       "    }\n",
       "\n",
       "    .dataframe tbody tr th {\n",
       "        vertical-align: top;\n",
       "    }\n",
       "\n",
       "    .dataframe thead th {\n",
       "        text-align: right;\n",
       "    }\n",
       "</style>\n",
       "<table border=\"1\" class=\"dataframe\">\n",
       "  <thead>\n",
       "    <tr style=\"text-align: right;\">\n",
       "      <th></th>\n",
       "      <th>business</th>\n",
       "      <th>year_founded</th>\n",
       "      <th>category_code</th>\n",
       "      <th>country_code</th>\n",
       "    </tr>\n",
       "  </thead>\n",
       "  <tbody>\n",
       "    <tr>\n",
       "      <th>0</th>\n",
       "      <td>Fiji Times</td>\n",
       "      <td>1869</td>\n",
       "      <td>CAT13</td>\n",
       "      <td>FJI</td>\n",
       "    </tr>\n",
       "    <tr>\n",
       "      <th>1</th>\n",
       "      <td>J. Armando Bermúdez &amp; Co.</td>\n",
       "      <td>1852</td>\n",
       "      <td>CAT9</td>\n",
       "      <td>DOM</td>\n",
       "    </tr>\n",
       "  </tbody>\n",
       "</table>\n",
       "</div>"
      ],
      "text/plain": [
       "                    business  year_founded category_code country_code\n",
       "0                 Fiji Times          1869         CAT13          FJI\n",
       "1  J. Armando Bermúdez & Co.          1852          CAT9          DOM"
      ]
     },
     "execution_count": 27,
     "metadata": {},
     "output_type": "execute_result"
    }
   ],
   "source": [
    "new_businesses = pd.read_csv('datasets/new_businesses.csv')\n",
    "new_businesses"
   ]
  },
  {
   "cell_type": "code",
   "execution_count": 26,
   "id": "47a4b5b7",
   "metadata": {},
   "outputs": [
    {
     "data": {
      "text/plain": [
       "165"
      ]
     },
     "execution_count": 26,
     "metadata": {},
     "output_type": "execute_result"
    }
   ],
   "source": [
    "# Add the data in new_businesses to the existing businesses\n",
    "all_businesses = pd.concat([businesses, new_businesses])\n",
    "\n",
    "# Check if we have 163+2=165 unique countries now\n",
    "all_businesses['country_code'].nunique()"
   ]
  },
  {
   "cell_type": "raw",
   "id": "c798513a",
   "metadata": {},
   "source": [
    "Let's count how many countries on each continent still have missing data:"
   ]
  },
  {
   "cell_type": "code",
   "execution_count": 31,
   "id": "43083a77",
   "metadata": {},
   "outputs": [
    {
     "data": {
      "text/html": [
       "<div>\n",
       "<style scoped>\n",
       "    .dataframe tbody tr th:only-of-type {\n",
       "        vertical-align: middle;\n",
       "    }\n",
       "\n",
       "    .dataframe tbody tr th {\n",
       "        vertical-align: top;\n",
       "    }\n",
       "\n",
       "    .dataframe thead th {\n",
       "        text-align: right;\n",
       "    }\n",
       "</style>\n",
       "<table border=\"1\" class=\"dataframe\">\n",
       "  <thead>\n",
       "    <tr style=\"text-align: right;\">\n",
       "      <th></th>\n",
       "      <th>count_missing</th>\n",
       "    </tr>\n",
       "    <tr>\n",
       "      <th>continent</th>\n",
       "      <th></th>\n",
       "    </tr>\n",
       "  </thead>\n",
       "  <tbody>\n",
       "    <tr>\n",
       "      <th>Africa</th>\n",
       "      <td>3</td>\n",
       "    </tr>\n",
       "    <tr>\n",
       "      <th>Asia</th>\n",
       "      <td>7</td>\n",
       "    </tr>\n",
       "    <tr>\n",
       "      <th>Europe</th>\n",
       "      <td>2</td>\n",
       "    </tr>\n",
       "    <tr>\n",
       "      <th>North America</th>\n",
       "      <td>5</td>\n",
       "    </tr>\n",
       "    <tr>\n",
       "      <th>Oceania</th>\n",
       "      <td>10</td>\n",
       "    </tr>\n",
       "    <tr>\n",
       "      <th>South America</th>\n",
       "      <td>3</td>\n",
       "    </tr>\n",
       "  </tbody>\n",
       "</table>\n",
       "</div>"
      ],
      "text/plain": [
       "               count_missing\n",
       "continent                   \n",
       "Africa                     3\n",
       "Asia                       7\n",
       "Europe                     2\n",
       "North America              5\n",
       "Oceania                   10\n",
       "South America              3"
      ]
     },
     "execution_count": 31,
     "metadata": {},
     "output_type": "execute_result"
    }
   ],
   "source": [
    "# Merge and filter to find countries with missing business data\n",
    "new_all_countries = all_businesses.merge(countries, on='country_code', how='outer')\n",
    "new_missing_countries = new_all_countries[new_all_countries['business'].isnull()]\n",
    "\n",
    "# Group by continent and create a \"count_missing\" column\n",
    "count_missing = new_missing_countries.groupby('continent').agg({'country_code': 'nunique'})\n",
    "count_missing.columns = [\"count_missing\"]\n",
    "count_missing"
   ]
  },
  {
   "cell_type": "code",
   "execution_count": null,
   "id": "8e7e1098",
   "metadata": {},
   "outputs": [],
   "source": []
  }
 ],
 "metadata": {
  "kernelspec": {
   "display_name": "Python 3 (ipykernel)",
   "language": "python",
   "name": "python3"
  },
  "language_info": {
   "codemirror_mode": {
    "name": "ipython",
    "version": 3
   },
   "file_extension": ".py",
   "mimetype": "text/x-python",
   "name": "python",
   "nbconvert_exporter": "python",
   "pygments_lexer": "ipython3",
   "version": "3.10.9"
  }
 },
 "nbformat": 4,
 "nbformat_minor": 5
}
